{
 "cells": [
  {
   "cell_type": "markdown",
   "id": "5bda4161-086c-4e8e-ab98-e368c60f0c03",
   "metadata": {},
   "source": [
    "# 1st attempt"
   ]
  },
  {
   "cell_type": "code",
   "execution_count": 9,
   "id": "ed1ea71e-af8e-44cf-a46e-e7b580ff229e",
   "metadata": {},
   "outputs": [
    {
     "data": {
      "application/vnd.jupyter.widget-view+json": {
       "model_id": "0f4763fd5e474e7ea43a1db3b75b329c",
       "version_major": 2,
       "version_minor": 0
      },
      "text/plain": [
       "VBox(children=(HBox(children=(Label(value='Temperature (°C)', layout=Layout(width='200px')), FloatSlider(value…"
      ]
     },
     "execution_count": 9,
     "metadata": {},
     "output_type": "execute_result"
    }
   ],
   "source": [
    "import numpy as np\n",
    "import matplotlib.pyplot as plt\n",
    "from scipy.integrate import odeint\n",
    "from ipywidgets import VBox, FloatSlider, interactive_output, Layout, HBox, Label\n",
    "from IPython.display import display, Javascript, HTML\n",
    "\n",
    "\n",
    "# Constants\n",
    "rho_f = 1000.0  # medium density (kg m^-3)\n",
    "pi = np.pi\n",
    "\n",
    "# Define the differential equation\n",
    "def kla_equation(C_l, t, T, Np, h, N, D, Di, v_s):\n",
    "    term1 = (1.022**(T-20))\n",
    "    term2 = 0.026 * (((0.5 * Np * rho_f * N**3 * Di**5) / (pi * D**2 * h))**0.4)\n",
    "    term3 = (v_s**0.5) * (100 - C_l)\n",
    "    dC_l_dt = term1 * term2 * term3\n",
    "    return dC_l_dt\n",
    "\n",
    "\n",
    "#Plotting function\n",
    "def plot_kla(T, Np, h, N, D, Di, v_s):\n",
    "    # Define time span for the x-axis\n",
    "    time_span = np.linspace(0, 50, 1000)  # More points for a smoother curve\n",
    "\n",
    "    # Initial oxygen concentration in %\n",
    "    C_l_initial = 0\n",
    "\n",
    "    # Solve the differential equation over the time span\n",
    "    C_l = odeint(kla_equation, C_l_initial, time_span, args=(T, Np, h, N, D, Di, v_s))\n",
    "    C_l_percent = C_l.flatten()\n",
    "\n",
    "    # Calculate kla_value\n",
    "    kla_value = (1.022**(T-20)) * (0.026 * (((0.5 * Np * rho_f * N**3 * Di**5) / (pi * D**2 * h))**0.4)) * (v_s**0.5) * (100 - C_l_initial)    \n",
    "\n",
    "    # Plotting\n",
    "    plt.figure(figsize=(10, 5))\n",
    "    plt.plot(time_span, C_l_percent, label='Oxygen Concentration', color='green', linewidth=2)\n",
    "\n",
    "    # Interpolate to find the time values for each whole number concentration from 1 to 99\n",
    "    interpolated_times = np.interp(np.arange(1, 100), C_l_percent, time_span)\n",
    "\n",
    "    # Plot the points on the curve from 1% to 99%\n",
    "    for t, C_l_value in zip(interpolated_times, np.arange(1, 100)):\n",
    "        plt.plot(t, C_l_value, 'go', markersize=4)\n",
    "\n",
    "    # Now find the time for 99.9%\n",
    "    t_99_9 = np.interp(99.9, C_l_percent, time_span)\n",
    "    plt.plot(t_99_9, 99.9, 'go', markersize=6)  # Red dot at 99.9%\n",
    "\n",
    "    plt.xlabel('Time (seconds)')\n",
    "    plt.ylabel('Oxygen Concentration (%)')\n",
    "    plt.ylim(0, 102)\n",
    "    plt.xlim(left=0)\n",
    "    plt.title('Oxygen Concentration over Time')\n",
    "    plt.legend()\n",
    "    plt.grid(True)\n",
    "\n",
    "    #Display additional calculated values after the graph\n",
    "    display(HTML(f\"<strong>The power input to impeller = {0.5 * Np * rho_f * N**3 * Di**5:.7f} [Nm/s]</strong>\"))\n",
    "    display(HTML(f\"<strong>The kla_value = {kla_value:.7f} [1/s] </strong>\"))    \n",
    "    \n",
    "    plt.show()\n",
    "\n",
    "\n",
    "# Adjust slider and label width separately\n",
    "slider_width = '400px'\n",
    "label_width = '200px'\n",
    "\n",
    "# Create labelled sliders with HTML labels for better control over text display\n",
    "T_label = Label('Temperature (°C)', layout=Layout(width=label_width))\n",
    "T_slider = FloatSlider(min=20, max=50, step=5, value=37, layout=Layout(width=slider_width))\n",
    "T_widget = HBox([T_label, T_slider])\n",
    "\n",
    "Np_label = Label('Impeller Power No.', layout=Layout(width=label_width))\n",
    "Np_slider = FloatSlider(min=1.5, max=36, step=1.5, value=6, layout=Layout(width=slider_width))\n",
    "Np_widget = HBox([Np_label, Np_slider])\n",
    "\n",
    "h_label = Label('Reactor Height (m)', layout=Layout(width=label_width))\n",
    "h_slider = FloatSlider(min=0.05, max=0.3, step=0.05, value=0.1, layout=Layout(width=slider_width))\n",
    "h_widget = HBox([h_label, h_slider])\n",
    "\n",
    "N_label = Label('Rotation Speed (1/s)', layout=Layout(width=label_width))\n",
    "N_slider = FloatSlider(min=1, max=35, step=0.1, value=16.7, layout=Layout(width=slider_width))\n",
    "N_widget = HBox([N_label, N_slider])\n",
    "\n",
    "D_label = Label('Reactor Diameter (m)', layout=Layout(width=label_width))\n",
    "D_slider = FloatSlider(min=0.05, max=0.3, step=0.05, value=0.05, layout=Layout(width=slider_width))\n",
    "D_widget = HBox([D_label, D_slider])\n",
    "\n",
    "Di_label = Label('Impeller Diameter (m)', layout=Layout(width=label_width))\n",
    "Di_slider = FloatSlider(min=0.005, max=0.05, step=0.005, value=0.01, layout=Layout(width=slider_width))\n",
    "Di_widget = HBox([Di_label, Di_slider])\n",
    "\n",
    "vs_label = Label('Aeration Rate (m^3/s)', layout=Layout(width=label_width))\n",
    "vs_slider = FloatSlider(min=0.2, max=42, step=0.2, value=21.23, layout=Layout(width=slider_width))\n",
    "vs_widget = HBox([vs_label, vs_slider])\n",
    "\n",
    "# Interactive Output\n",
    "output = interactive_output(plot_kla, {'T': T_slider, 'Np': Np_slider, 'h': h_slider, 'N': N_slider, \n",
    "                                       'D': D_slider, 'Di': Di_slider, 'v_s': vs_slider})\n",
    "\n",
    "# Display the widgets\n",
    "input_widgets = VBox([T_widget, Np_widget, h_widget, N_widget, D_widget, Di_widget, vs_widget, output])\n",
    "input_widgets"
   ]
  },
  {
   "cell_type": "code",
   "execution_count": null,
   "id": "fa3a05b8-321b-438f-aa2e-20ba424ea767",
   "metadata": {},
   "outputs": [],
   "source": []
  },
  {
   "cell_type": "code",
   "execution_count": null,
   "id": "ea7e7870-36a8-4e8e-aca1-f9bcfb2c9c33",
   "metadata": {},
   "outputs": [],
   "source": []
  },
  {
   "cell_type": "code",
   "execution_count": 2,
   "id": "e50c0f5b-3cd1-4de0-ae14-d32103e02d76",
   "metadata": {},
   "outputs": [
    {
     "data": {
      "application/vnd.jupyter.widget-view+json": {
       "model_id": "bf9b212b9542429fadd1db6d1ae6c955",
       "version_major": 2,
       "version_minor": 0
      },
      "text/plain": [
       "VBox(children=(VBox(children=(HBox(children=(FloatSlider(value=37.0, description='Temperature (°C)', max=50.0,…"
      ]
     },
     "metadata": {},
     "output_type": "display_data"
    }
   ],
   "source": [
    "import numpy as np\n",
    "import matplotlib.pyplot as plt\n",
    "from scipy.integrate import odeint\n",
    "from ipywidgets import FloatSlider, interactive, HBox, VBox, interactive_output\n",
    "from IPython.display import display, clear_output\n",
    "\n",
    "# Define the constants\n",
    "rho_f = 1000.0  # medium density (kg m^-3)\n",
    "pi = np.pi\n",
    "\n",
    "# Define the differential equation (assuming kla_equation is as previously defined)\n",
    "def kla_equation(C_l, t, T, Np, h, N, D, Di, v_s):\n",
    "    term1 = (1.022**(T-20))\n",
    "    term2 = 0.026 * (((0.5 * Np * rho_f * N**3 * Di**5) / (pi * D**2 * h))**0.4)\n",
    "    term3 = (v_s**0.5) * (100 - C_l)\n",
    "    return term1 * term2 * term3\n",
    "\n",
    "# Define a function to create a set of sliders\n",
    "def create_sliders():\n",
    "    return {\n",
    "        'T': FloatSlider(min=20, max=50, step=1, value=37, description='Temperature (°C)'),\n",
    "        'Np': FloatSlider(min=1.5, max=36, step=1.5, value=6, description='Impeller Power No.'),\n",
    "        'h': FloatSlider(min=0.05, max=0.3, step=0.05, value=0.1, description='Reactor Height (m)'),\n",
    "        'N': FloatSlider(min=1, max=35, step=0.1, value=16.7, description='Rotation Speed (1/s)'),\n",
    "        'D': FloatSlider(min=0.05, max=0.3, step=0.05, value=0.05, description='Reactor Diameter (m)'),\n",
    "        'Di': FloatSlider(min=0.005, max=0.05, step=0.005, value=0.01, description='Impeller Diameter (m)'),\n",
    "        'v_s': FloatSlider(min=0.2, max=42, step=0.2, value=21.23, description='Aeration Rate (m^3/s)')\n",
    "    }\n",
    "\n",
    "# Define the plotting function\n",
    "def plot_kla(sliders):\n",
    "    \n",
    "    Np = sliders['Np'].value\n",
    "    T = sliders['T'].value\n",
    "    h = sliders['h'].value\n",
    "    N = sliders['N'].value\n",
    "    D = sliders['D'].value\n",
    "    Di = sliders['Di'].value\n",
    "    v_s = sliders['v_s'].value\n",
    "\n",
    "    time_span = np.linspace(0, 50, 1000)\n",
    "    C_l_initial = 0\n",
    "    C_l = odeint(kla_equation, C_l_initial, time_span, args=(T, Np, h, N, D, Di, v_s))\n",
    "    C_l_percent = C_l.flatten()\n",
    "\n",
    "    plt.figure(figsize=(10, 5))\n",
    "    plt.plot(time_span, C_l_percent, label=f'T={T}, Np={Np}, h={h}, N={N}, D={D}, Di={Di}, v_s={v_s}', linewidth=2)\n",
    "    plt.xlabel('Time (seconds)')\n",
    "    plt.ylabel('Oxygen Concentration (%)')\n",
    "    plt.ylim(0, 102)\n",
    "    plt.xlim(0, time_span[-1])\n",
    "    plt.title('Oxygen Concentration over Time')\n",
    "    plt.legend()\n",
    "    plt.grid(True)\n",
    "    plt.show()\n",
    "\n",
    "# Create three sets of sliders\n",
    "sliders_set1 = create_sliders()\n",
    "sliders_set2 = create_sliders()\n",
    "sliders_set3 = create_sliders()\n",
    "\n",
    "# Create interactive widgets for each set of sliders\n",
    "output1 = interactive_output(plot_kla, sliders_set1)\n",
    "output2 = interactive_output(plot_kla, sliders_set2)\n",
    "output3 = interactive_output(plot_kla, sliders_set3)\n",
    "\n",
    "# Create boxes for each set of sliders and their output\n",
    "box1 = VBox([HBox(list(sliders_set1.values())), output1])\n",
    "box2 = VBox([HBox(list(sliders_set2.values())), output2])\n",
    "box3 = VBox([HBox(list(sliders_set3.values())), output3])\n",
    "\n",
    "# Display all the slider boxes and outputs\n",
    "display(VBox([box1, box2, box3]))\n"
   ]
  },
  {
   "cell_type": "code",
   "execution_count": null,
   "id": "a3d7b521-7ee4-4325-802c-74565029920b",
   "metadata": {},
   "outputs": [],
   "source": []
  },
  {
   "cell_type": "markdown",
   "id": "0b7a96c0-dfde-423a-8cd8-3815ef023121",
   "metadata": {},
   "source": [
    "# 3 sets of sliders --> 3 graphs"
   ]
  },
  {
   "cell_type": "code",
   "execution_count": 3,
   "id": "fe1ea6fc-c40b-488b-9db6-350a4aff2f41",
   "metadata": {},
   "outputs": [
    {
     "data": {
      "application/vnd.jupyter.widget-view+json": {
       "model_id": "39c11f833a504d0fa1fe78372ab26b41",
       "version_major": 2,
       "version_minor": 0
      },
      "text/plain": [
       "VBox(children=(VBox(children=(HBox(children=(FloatSlider(value=37.0, continuous_update=False, description='Tem…"
      ]
     },
     "metadata": {},
     "output_type": "display_data"
    }
   ],
   "source": [
    "import numpy as np\n",
    "import matplotlib.pyplot as plt\n",
    "from scipy.integrate import odeint\n",
    "from ipywidgets import FloatSlider, VBox, interactive_output, Layout, HBox\n",
    "from IPython.display import display\n",
    "\n",
    "# Define the constants\n",
    "rho_f = 1000.0  # medium density (kg m^-3)\n",
    "pi = np.pi\n",
    "\n",
    "# Define the differential equation (assuming kla_equation is as previously defined)\n",
    "def kla_equation(C_l, t, T, Np, h, N, D, Di, v_s):\n",
    "    term1 = (1.022 ** (T - 20))\n",
    "    term2 = 0.026 * (((0.5 * Np * rho_f * N ** 3 * Di ** 5) / (pi * D ** 2 * h)) ** 0.4)\n",
    "    term3 = (v_s ** 0.5) * (100 - C_l)\n",
    "    return term1 * term2 * term3\n",
    "\n",
    "# Define a function to create a set of sliders\n",
    "def create_sliders():\n",
    "    return {\n",
    "        'T': FloatSlider(min=20, max=50, step=1, value=37, description='Temperature (°C)', continuous_update=False),\n",
    "        'Np': FloatSlider(min=1.5, max=36, step=1.5, value=6, description='Impeller Power No.', continuous_update=False),\n",
    "        'h': FloatSlider(min=0.05, max=0.3, step=0.05, value=0.1, description='Reactor Height (m)', continuous_update=False),\n",
    "        'N': FloatSlider(min=1, max=35, step=0.1, value=16.7, description='Rotation Speed (1/s)', continuous_update=False),\n",
    "        'D': FloatSlider(min=0.05, max=0.3, step=0.05, value=0.05, description='Reactor Diameter (m)', continuous_update=False),\n",
    "        'Di': FloatSlider(min=0.005, max=0.05, step=0.005, value=0.01, description='Impeller Diameter (m)', continuous_update=False),\n",
    "        'v_s': FloatSlider(min=0.2, max=42, step=0.2, value=21.23, description='Aeration Rate (m^3/s)', continuous_update=False)\n",
    "    }\n",
    "\n",
    "# Define the plotting function\n",
    "def plot_kla(T, Np, h, N, D, Di, v_s):\n",
    "    time_span = np.linspace(0, 50, 1000)\n",
    "    C_l_initial = 0\n",
    "    C_l = odeint(kla_equation, C_l_initial, time_span, args=(T, Np, h, N, D, Di, v_s))\n",
    "    C_l_percent = C_l.flatten()\n",
    "\n",
    "    plt.figure(figsize=(10, 5))\n",
    "    plt.plot(time_span, C_l_percent, label=f'T={T}, Np={Np}, h={h}, N={N}, D={D}, Di={Di}, v_s={v_s}', linewidth=2)\n",
    "    plt.xlabel('Time (seconds)')\n",
    "    plt.ylabel('Oxygen Concentration (%)')\n",
    "    plt.ylim(0, 102)\n",
    "    plt.xlim(0, time_span[-1])\n",
    "    plt.title('Oxygen Concentration over Time')\n",
    "    plt.legend()\n",
    "    plt.grid(True)\n",
    "    plt.show()\n",
    "\n",
    "# Create three sets of sliders\n",
    "sliders_set1 = create_sliders()\n",
    "sliders_set2 = create_sliders()\n",
    "sliders_set3 = create_sliders()\n",
    "\n",
    "# Function to create interactive plot with a given set of sliders\n",
    "def create_interactive_plot(sliders_set):\n",
    "    return interactive_output(plot_kla, sliders_set)\n",
    "\n",
    "# Create interactive widgets for each set of sliders\n",
    "output1 = create_interactive_plot(sliders_set1)\n",
    "output2 = create_interactive_plot(sliders_set2)\n",
    "output3 = create_interactive_plot(sliders_set3)\n",
    "\n",
    "# Create boxes for each set of sliders and their output\n",
    "box1 = VBox([HBox(list(sliders_set1.values())), output1])\n",
    "box2 = VBox([HBox(list(sliders_set2.values())), output2])\n",
    "box3 = VBox([HBox(list(sliders_set3.values())), output3])\n",
    "\n",
    "# Display all the slider boxes and outputs\n",
    "display(VBox([box1, box2, box3]))\n"
   ]
  },
  {
   "cell_type": "markdown",
   "id": "a2c24758-723b-417b-aebc-5ea97d35a414",
   "metadata": {},
   "source": [
    "# 3sliders output in logs"
   ]
  },
  {
   "cell_type": "code",
   "execution_count": 4,
   "id": "105abc1a-9702-45c6-bf5e-690ebc1358de",
   "metadata": {},
   "outputs": [
    {
     "data": {
      "application/vnd.jupyter.widget-view+json": {
       "model_id": "18dfdd7c49374ec08d2f545c1c1d5375",
       "version_major": 2,
       "version_minor": 0
      },
      "text/plain": [
       "HBox(children=(VBox(children=(FloatSlider(value=37.0, description='Temperature (°C)', max=50.0, min=20.0, step…"
      ]
     },
     "metadata": {},
     "output_type": "display_data"
    },
    {
     "data": {
      "application/vnd.jupyter.widget-view+json": {
       "model_id": "a226f8c6667f481f933d313e5b61274c",
       "version_major": 2,
       "version_minor": 0
      },
      "text/plain": [
       "Button(description='Plot Graphs', style=ButtonStyle())"
      ]
     },
     "metadata": {},
     "output_type": "display_data"
    }
   ],
   "source": [
    "import numpy as np\n",
    "import matplotlib.pyplot as plt\n",
    "from scipy.integrate import odeint\n",
    "import ipywidgets as widgets\n",
    "from IPython.display import display\n",
    "\n",
    "# Constants\n",
    "rho_f = 1000.0  # medium density (kg m^-3)\n",
    "pi = np.pi\n",
    "\n",
    "# Differential equation\n",
    "def kla_equation(C_l, t, T, Np, h, N, D, Di, v_s):\n",
    "    term1 = (1.022 ** (T - 20))\n",
    "    term2 = 0.026 * (((0.5 * Np * rho_f * N ** 3 * Di ** 5) / (pi * D ** 2 * h)) ** 0.4)\n",
    "    term3 = (v_s ** 0.5) * (100 - C_l)\n",
    "    return term1 * term2 * term3\n",
    "\n",
    "# Function to solve the differential equation and return C_l\n",
    "def solve_kla(T, Np, h, N, D, Di, v_s):\n",
    "    time_span = np.linspace(0, 50, 1000)\n",
    "    C_l_initial = 0\n",
    "    C_l = odeint(kla_equation, C_l_initial, time_span, args=(T, Np, h, N, D, Di, v_s))\n",
    "    return C_l.flatten(), time_span\n",
    "\n",
    "# Function to create a set of sliders\n",
    "def create_sliders():\n",
    "    return {\n",
    "        'T': widgets.FloatSlider(min=20, max=50, step=1, value=37, description='Temperature (°C)'),\n",
    "        'Np': widgets.FloatSlider(min=1.5, max=36, step=1.5, value=6, description='Impeller Power No.'),\n",
    "        'h': widgets.FloatSlider(min=0.05, max=0.3, step=0.05, value=0.1, description='Reactor Height (m)'),\n",
    "        'N': widgets.FloatSlider(min=1, max=35, step=0.1, value=16.7, description='Rotation Speed (1/s)'),\n",
    "        'D': widgets.FloatSlider(min=0.05, max=0.3, step=0.05, value=0.05, description='Reactor Diameter (m)'),\n",
    "        'Di': widgets.FloatSlider(min=0.005, max=0.05, step=0.005, value=0.01, description='Impeller Diameter (m)'),\n",
    "        'v_s': widgets.FloatSlider(min=0.2, max=42, step=0.2, value=21.23, description='Aeration Rate (m^3/s)'),\n",
    "    }\n",
    "\n",
    "# Plotting function\n",
    "def plot_kla(sliders_set1, sliders_set2, sliders_set3):\n",
    "    C_l1, time_span1 = solve_kla(**{key: slider.value for key, slider in sliders_set1.items()})\n",
    "    C_l2, time_span2 = solve_kla(**{key: slider.value for key, slider in sliders_set2.items()})\n",
    "    C_l3, time_span3 = solve_kla(**{key: slider.value for key, slider in sliders_set3.items()})\n",
    "\n",
    "    plt.figure(figsize=(10, 5))\n",
    "    plt.plot(time_span1, C_l1, label='Set 1')\n",
    "    plt.plot(time_span2, C_l2, label='Set 2')\n",
    "    plt.plot(time_span3, C_l3, label='Set 3')\n",
    "    plt.xlabel('Time (seconds)')\n",
    "    plt.ylabel('Oxygen Concentration (%)')\n",
    "    plt.ylim(0, 102)\n",
    "    plt.xlim(0, 50)\n",
    "    plt.title('Oxygen Concentration over Time')\n",
    "    plt.legend()\n",
    "    plt.grid(True)\n",
    "    plt.show()\n",
    "\n",
    "# Creating three sets of sliders\n",
    "sliders_set1 = create_sliders()\n",
    "sliders_set2 = create_sliders()\n",
    "sliders_set3 = create_sliders()\n",
    "\n",
    "# Creating VBox for each set for vertical alignment\n",
    "vbox1 = widgets.VBox(list(sliders_set1.values()))\n",
    "vbox2 = widgets.VBox(list(sliders_set2.values()))\n",
    "vbox3 = widgets.VBox(list(sliders_set3.values()))\n",
    "\n",
    "# Creating an HBox to contain all VBoxes for horizontal alignment\n",
    "hbox_sliders = widgets.HBox([vbox1, vbox2, vbox3])\n",
    "\n",
    "# Creating a button to trigger the plotting\n",
    "plot_button = widgets.Button(description=\"Plot Graphs\")\n",
    "\n",
    "# Function to execute when button is clicked\n",
    "def on_plot_button_clicked(b):\n",
    "    plot_kla(sliders_set1, sliders_set2, sliders_set3)\n",
    "\n",
    "# Attaching the button click event\n",
    "plot_button.on_click(on_plot_button_clicked)\n",
    "\n",
    "# Display the UI\n",
    "display(hbox_sliders, plot_button)\n"
   ]
  },
  {
   "cell_type": "markdown",
   "id": "921e8aa7-ea8c-4888-a50d-4f9025288f18",
   "metadata": {},
   "source": [
    "# 3sliders - 1 graph - output not changing"
   ]
  },
  {
   "cell_type": "code",
   "execution_count": 5,
   "id": "ff88b676-1a80-49ec-b884-5b49376a3e23",
   "metadata": {},
   "outputs": [
    {
     "data": {
      "application/vnd.jupyter.widget-view+json": {
       "model_id": "d7f21e7efe6046d39b9bc96c5dd63099",
       "version_major": 2,
       "version_minor": 0
      },
      "text/plain": [
       "HBox(children=(VBox(children=(FloatSlider(value=37.0, description='Temperature (°C)', max=50.0, min=20.0, step…"
      ]
     },
     "metadata": {},
     "output_type": "display_data"
    },
    {
     "data": {
      "image/png": "[encoded data removed]",
      "text/plain": [
       "<Figure size 1000x500 with 1 Axes>"
      ]
     },
     "metadata": {},
     "output_type": "display_data"
    }
   ],
   "source": [
    "import numpy as np\n",
    "import matplotlib.pyplot as plt\n",
    "from scipy.integrate import odeint\n",
    "import ipywidgets as widgets\n",
    "from IPython.display import display, clear_output\n",
    "\n",
    "# Constants\n",
    "rho_f = 1000.0  # medium density (kg m^-3)\n",
    "pi = np.pi\n",
    "\n",
    "# Differential equation\n",
    "def kla_equation(C_l, t, T, Np, h, N, D, Di, v_s):\n",
    "    term1 = (1.022 ** (T - 20))\n",
    "    term2 = 0.026 * (((0.5 * Np * rho_f * N ** 3 * Di ** 5) / (pi * D ** 2 * h)) ** 0.4)\n",
    "    term3 = (v_s ** 0.5) * (100 - C_l)\n",
    "    return term1 * term2 * term3\n",
    "\n",
    "# Function to solve the differential equation and return C_l\n",
    "def solve_kla(T, Np, h, N, D, Di, v_s):\n",
    "    time_span = np.linspace(0, 50, 1000)\n",
    "    C_l_initial = 0\n",
    "    C_l = odeint(kla_equation, C_l_initial, time_span, args=(T, Np, h, N, D, Di, v_s))\n",
    "    return C_l.flatten(), time_span\n",
    "\n",
    "# Function to create a set of sliders\n",
    "def create_sliders():\n",
    "    return {\n",
    "        'T': widgets.FloatSlider(min=20, max=50, step=1, value=37, description='Temperature (°C)',),\n",
    "        'Np': widgets.FloatSlider(min=1.5, max=36, step=1.5, value=6, description='Impeller Power No.'),\n",
    "        'h': widgets.FloatSlider(min=0.05, max=0.3, step=0.05, value=0.1, description='Reactor Height (m)'),\n",
    "        'N': widgets.FloatSlider(min=1, max=35, step=0.1, value=16.7, description='Rotation Speed (1/s)'),\n",
    "        'D': widgets.FloatSlider(min=0.05, max=0.3, step=0.05, value=0.05, description='Reactor Diameter (m)'),\n",
    "        'Di': widgets.FloatSlider(min=0.005, max=0.05, step=0.005, value=0.01, description='Impeller Diameter (m)'),\n",
    "        'v_s': widgets.FloatSlider(min=0.2, max=42, step=0.2, value=21.23, description='Aeration Rate (m^3/s)'),\n",
    "    }\n",
    "\n",
    "# Global figure to allow for interactive updates\n",
    "fig, ax = plt.subplots(figsize=(10, 5))\n",
    "\n",
    "# Function to update the plot\n",
    "def update_plot(*args):\n",
    "    ax.clear()\n",
    "    ax.set_xlabel('Time (seconds)')\n",
    "    ax.set_ylabel('Oxygen Concentration (%)')\n",
    "    ax.set_ylim(0, 102)\n",
    "    ax.set_xlim(0, 50)\n",
    "    ax.set_title('Oxygen Concentration over Time')\n",
    "    ax.grid(True)\n",
    "    \n",
    "    # Plot each dataset with updated values from sliders\n",
    "    for i, sliders in enumerate([sliders_set1, sliders_set2, sliders_set3], start=1):\n",
    "        C_l, time_span = solve_kla(**{key: slider.value for key, slider in sliders.items()})\n",
    "        ax.plot(time_span, C_l, label=f'Set {i}')\n",
    "    \n",
    "    ax.legend()\n",
    "    fig.canvas.draw()\n",
    "\n",
    "# Creating three sets of sliders\n",
    "sliders_set1 = create_sliders()\n",
    "sliders_set2 = create_sliders()\n",
    "sliders_set3 = create_sliders()\n",
    "\n",
    "# Observe changes in sliders and update the plot accordingly\n",
    "for sliders in [sliders_set1, sliders_set2, sliders_set3]:\n",
    "    for slider in sliders.values():\n",
    "        slider.observe(update_plot, 'value')\n",
    "\n",
    "# Creating VBox for each set for vertical alignment\n",
    "vbox1 = widgets.VBox(list(sliders_set1.values()))\n",
    "vbox2 = widgets.VBox(list(sliders_set2.values()))\n",
    "vbox3 = widgets.VBox(list(sliders_set3.values()))\n",
    "\n",
    "# Creating an HBox to contain all VBoxes for horizontal alignment\n",
    "hbox_sliders = widgets.HBox([vbox1, vbox2, vbox3])\n",
    "\n",
    "# Initialize plot\n",
    "update_plot()\n",
    "\n",
    "# Display the UI\n",
    "display(hbox_sliders)\n"
   ]
  },
  {
   "cell_type": "markdown",
   "id": "c6d0914d-1813-467f-95fb-37b0cf0643ff",
   "metadata": {},
   "source": [
    "# 3sliders - 1 graph - ( Useful) (looks meh)"
   ]
  },
  {
   "cell_type": "code",
   "execution_count": 6,
   "id": "61a4d92d-de73-4c49-b43e-b8f5a5667631",
   "metadata": {},
   "outputs": [
    {
     "data": {
      "text/html": [
       "<strong>Plot 1:</strong>"
      ],
      "text/plain": [
       "<IPython.core.display.HTML object>"
      ]
     },
     "metadata": {},
     "output_type": "display_data"
    },
    {
     "data": {
      "application/vnd.jupyter.widget-view+json": {
       "model_id": "176ae5fa8482427698a190e005188ca0",
       "version_major": 2,
       "version_minor": 0
      },
      "text/plain": [
       "interactive(children=(FloatSlider(value=37.0, continuous_update=False, description='Plot1: T', max=50.0, min=2…"
      ]
     },
     "metadata": {},
     "output_type": "display_data"
    }
   ],
   "source": [
    "import numpy as np\n",
    "import matplotlib.pyplot as plt\n",
    "from scipy.integrate import odeint\n",
    "import ipywidgets as widgets\n",
    "from IPython.display import display, clear_output, HTML\n",
    "\n",
    "# Define constants\n",
    "rho_f = 1000.0  # medium density (kg m^-3)\n",
    "pi = np.pi\n",
    "\n",
    "# Define the differential equation\n",
    "def kla_equation(C_l, t, T, Np, h, N, D, Di, v_s):\n",
    "    term1 = (1.022**(T-20))\n",
    "    term2 = 0.026 * (((0.5*Np*rho_f*N**3*Di**5)/(pi*D**2*h))**0.4)\n",
    "    term3 = (v_s**0.5)*(100-C_l)\n",
    "    return term1*term2*term3\n",
    "\n",
    "# Define the plotting function\n",
    "def plot_all(T1, Np1, h1, N1, D1, Di1, v_s1,\n",
    "             T2, Np2, h2, N2, D2, Di2, v_s2,\n",
    "             T3, Np3, h3, N3, D3, Di3, v_s3):\n",
    "    \n",
    "    time_span = np.linspace(0, 50, 1000)\n",
    "    initial_C_l = 0\n",
    "    \n",
    "    # Solve for all three sets\n",
    "    C_l1 = odeint(kla_equation, initial_C_l, time_span, args=(T1, Np1, h1, N1, D1, Di1, v_s1)).flatten()\n",
    "    C_l2 = odeint(kla_equation, initial_C_l, time_span, args=(T2, Np2, h2, N2, D2, Di2, v_s2)).flatten()\n",
    "    C_l3 = odeint(kla_equation, initial_C_l, time_span, args=(T3, Np3, h3, N3, D3, Di3, v_s3)).flatten()\n",
    "\n",
    "    # Plot all three sets on the same axes\n",
    "    plt.figure(figsize=(10, 5))\n",
    "    plt.plot(time_span, C_l1, label='Plot 1', color='blue')\n",
    "    plt.plot(time_span, C_l2, label='Plot 2', color='orange')\n",
    "    plt.plot(time_span, C_l3, label='Plot 3', color='green')\n",
    "    plt.xlabel('Time (seconds)')\n",
    "    plt.ylabel('Oxygen Concentration (%)')\n",
    "    plt.ylim(0, 102)\n",
    "    plt.title('Oxygen Concentration over Time')\n",
    "    plt.legend()\n",
    "    plt.grid(True)\n",
    "    plt.show()\n",
    "\n",
    "#Display graph 1 Title\n",
    "display(HTML(f\"<strong>Plot 1:</strong>\"))\n",
    "# Create slider sets\n",
    "sliders_set1 = {'T': widgets.FloatSlider(min=20, max=50, step=1, value=37, continuous_update=False, description='Plot1: T'),\n",
    "                'Np': widgets.FloatSlider(min=1.5, max=36, step=1.5, value=6, continuous_update=False, description='Plot1: Np'),\n",
    "                'h': widgets.FloatSlider(min=0.05, max=0.3, step=0.05, value=0.1, continuous_update=False, description='Plot1: h'),\n",
    "                'N': widgets.FloatSlider(min=1, max=35, step=0.1, value=16.7, continuous_update=False, description='Plot1: N'),\n",
    "                'D': widgets.FloatSlider(min=0.05, max=0.3, step=0.05, value=0.05, continuous_update=False, description='Plot1: D'),\n",
    "                'Di': widgets.FloatSlider(min=0.005, max=0.05, step=0.005, value=0.01, continuous_update=False, description='Plot1: Di'),\n",
    "                'v_s': widgets.FloatSlider(min=0.2, max=42, step=0.2, value=21.23, continuous_update=False, description='Plot1: v_s'),\n",
    "                # ... create all sliders for set 1\n",
    "               }\n",
    "\n",
    "sliders_set2 = {'T': widgets.FloatSlider(min=20, max=50, step=1, value=24, continuous_update=False, description='Temperature'),\n",
    "                'Np': widgets.FloatSlider(min=1.5, max=36, step=1.5, value=6, continuous_update=False, description='Impeller Power No.'),\n",
    "                'h': widgets.FloatSlider(min=0.05, max=0.3, step=0.05, value=0.1, continuous_update=False, description='Reactor Height (m)'),\n",
    "                'N': widgets.FloatSlider(min=1, max=35, step=0.1, value=16.7, continuous_update=False, description='Rotation Speed (1/s)'),\n",
    "                'D': widgets.FloatSlider(min=0.05, max=0.3, step=0.05, value=0.05, continuous_update=False, description='Reactor Diameter (m)'),\n",
    "                'Di': widgets.FloatSlider(min=0.005, max=0.05, step=0.005, value=0.01, continuous_update=False, description='Impeller Diameter (m)'),\n",
    "                'v_s': widgets.FloatSlider(min=0.2, max=42, step=0.2, value=21.23, continuous_update=False, description='Aeration Rate (m^3/s)'),\n",
    "                # ... create all sliders for set 2\n",
    "               }\n",
    "\n",
    "sliders_set3 = {'T': widgets.FloatSlider(min=20, max=50, step=1, value=50, continuous_update=False, description='Temperature'),\n",
    "                'Np': widgets.FloatSlider(min=1.5, max=36, step=1.5, value=6, continuous_update=False, description='Impeller Power No.'),\n",
    "                'h': widgets.FloatSlider(min=0.05, max=0.3, step=0.05, value=0.1, continuous_update=False, description='Reactor Height (m)'),\n",
    "                'N': widgets.FloatSlider(min=1, max=35, step=0.1, value=16.7, continuous_update=False, description='Rotation Speed (1/s)'),\n",
    "                'D': widgets.FloatSlider(min=0.05, max=0.3, step=0.05, value=0.05, continuous_update=False, description='Reactor Diameter (m)'),\n",
    "                'Di': widgets.FloatSlider(min=0.005, max=0.05, step=0.005, value=0.01, continuous_update=False, description='Impeller Diameter (m)'),\n",
    "                'v_s': widgets.FloatSlider(min=0.2, max=42, step=0.2, value=21.23, continuous_update=False, description='Aeration Rate (m^3/s)'),\n",
    "                # ... create all sliders for set 3\n",
    "               }\n",
    "\n",
    "# Interactive plot\n",
    "interactive_plot = widgets.interactive(plot_all,\n",
    "                                       T1=sliders_set1['T'], Np1=sliders_set1['Np'],h1=sliders_set1['h'],N1=sliders_set1['N'],D1=sliders_set1['D'],Di1=sliders_set1['Di'],v_s1=sliders_set1['v_s'], # ... all sliders from set 1\n",
    "                                       T2=sliders_set2['T'], Np2=sliders_set2['Np'],h2=sliders_set2['h'],N2=sliders_set2['N'],D2=sliders_set2['D'],Di2=sliders_set2['Di'],v_s2=sliders_set2['v_s'], # ... all sliders from set 2\n",
    "                                       T3=sliders_set3['T'], Np3=sliders_set3['Np'],h3=sliders_set3['h'],N3=sliders_set3['N'],D3=sliders_set3['D'],Di3=sliders_set3['Di'],v_s3=sliders_set3['v_s'], # ... all sliders from set 3\n",
    "                                      )\n",
    "\n",
    "# Display the interactive plot with sliders\n",
    "display(interactive_plot)\n"
   ]
  },
  {
   "cell_type": "markdown",
   "id": "e2413fc5-8a97-432d-864b-b86aeddff078",
   "metadata": {},
   "source": [
    "# 3sliders - 1 graph - (Perfect works) "
   ]
  },
  {
   "cell_type": "code",
   "execution_count": 7,
   "id": "f3d745b7-4d39-4adb-8f3b-cf74db1ebd79",
   "metadata": {},
   "outputs": [
    {
     "data": {
      "text/html": [
       "<strong><u>Select Parameters for Three Plots:</u></strong>"
      ],
      "text/plain": [
       "<IPython.core.display.HTML object>"
      ]
     },
     "metadata": {},
     "output_type": "display_data"
    },
    {
     "data": {
      "application/vnd.jupyter.widget-view+json": {
       "model_id": "e99d759cdd56460f8c9b6c713835918e",
       "version_major": 2,
       "version_minor": 0
      },
      "text/plain": [
       "HBox(children=(VBox(children=(FloatSlider(value=0.05, continuous_update=False, description='Plot1: D', max=0.3…"
      ]
     },
     "metadata": {},
     "output_type": "display_data"
    },
    {
     "data": {
      "application/vnd.jupyter.widget-view+json": {
       "model_id": "2271ce51db0b4c94a2711f2b1f96d284",
       "version_major": 2,
       "version_minor": 0
      },
      "text/plain": [
       "Output()"
      ]
     },
     "metadata": {},
     "output_type": "display_data"
    }
   ],
   "source": [
    "import numpy as np\n",
    "import matplotlib.pyplot as plt\n",
    "from scipy.integrate import odeint\n",
    "import ipywidgets as widgets\n",
    "from IPython.display import display, clear_output, HTML\n",
    "\n",
    "# Define constants\n",
    "rho_f = 1000.0  # medium density (kg m^-3)\n",
    "pi = np.pi\n",
    "\n",
    "# Define the differential equation\n",
    "def kla_equation(C_l, t, T, Np, h, N, D, Di, v_s):\n",
    "    term1 = (1.022**(T-20))\n",
    "    term2 = 0.026 * (((0.5*Np*rho_f*N**3*Di**5)/(pi*D**2*h))**0.4)\n",
    "    term3 = (v_s**0.5)*(100-C_l)\n",
    "    return term1*term2*term3\n",
    "\n",
    "# Define the plotting function\n",
    "def plot_all(T1, Np1, h1, N1, D1, Di1, v_s1,\n",
    "             T2, Np2, h2, N2, D2, Di2, v_s2,\n",
    "             T3, Np3, h3, N3, D3, Di3, v_s3):\n",
    "    \n",
    "    time_span = np.linspace(0, 50, 1000)\n",
    "    initial_C_l = 0\n",
    "    \n",
    "    # Solve for all three sets\n",
    "    C_l1 = odeint(kla_equation, initial_C_l, time_span, args=(T1, Np1, h1, N1, D1, Di1, v_s1)).flatten()\n",
    "    C_l2 = odeint(kla_equation, initial_C_l, time_span, args=(T2, Np2, h2, N2, D2, Di2, v_s2)).flatten()\n",
    "    C_l3 = odeint(kla_equation, initial_C_l, time_span, args=(T3, Np3, h3, N3, D3, Di3, v_s3)).flatten()\n",
    "\n",
    "    # Plot all three sets on the same axes\n",
    "    plt.figure(figsize=(10, 5))\n",
    "    plt.plot(time_span, C_l1, label='Plot 1', color='blue')\n",
    "    plt.plot(time_span, C_l2, label='Plot 2', color='orange')\n",
    "    plt.plot(time_span, C_l3, label='Plot 3', color='green')\n",
    "    plt.xlabel('Time (seconds)')\n",
    "    plt.ylabel('Oxygen Concentration (%)')\n",
    "    plt.ylim(0, 102)\n",
    "    plt.title('Oxygen Concentration over Time')\n",
    "    plt.legend()\n",
    "    plt.grid(True)\n",
    "    plt.show()\n",
    "\n",
    "#Display graph 1 Title\n",
    "#display(HTML(f\"<strong><u>Plot Values:</u></strong> \\n\"))\n",
    "\n",
    "# Create slider sets\n",
    "sliders_set1 = {'T1': widgets.FloatSlider(min=20, max=50, step=1, value=37, continuous_update=False, description='Plot1: T'),\n",
    "                'Np1': widgets.FloatSlider(min=1.5, max=36, step=1.5, value=6, continuous_update=False, description='Plot1: Np'),\n",
    "                'h1': widgets.FloatSlider(min=0.05, max=0.3, step=0.05, value=0.1, continuous_update=False, description='Plot1: h'),\n",
    "                'N1': widgets.FloatSlider(min=1, max=35, step=0.1, value=16.7, continuous_update=False, description='Plot1: N'),\n",
    "                'D1': widgets.FloatSlider(min=0.05, max=0.3, step=0.05, value=0.05, continuous_update=False, description='Plot1: D'),\n",
    "                'Di1': widgets.FloatSlider(min=0.005, max=0.05, step=0.005, value=0.01, continuous_update=False, description='Plot1: Di'),\n",
    "                'v_s1': widgets.FloatSlider(min=0.2, max=42, step=0.2, value=21.23, continuous_update=False, description='Plot1: v_s'),\n",
    "                # ... create all sliders for set 1\n",
    "               }\n",
    "\n",
    "sliders_set2 = {'T2': widgets.FloatSlider(min=20, max=50, step=1, value=24, continuous_update=False, description='Plot2: T'),\n",
    "                'Np2': widgets.FloatSlider(min=1.5, max=36, step=1.5, value=6, continuous_update=False, description='Plot2: Np'),\n",
    "                'h2': widgets.FloatSlider(min=0.05, max=0.3, step=0.05, value=0.05, continuous_update=False, description='Plot2: h'),\n",
    "                'N2': widgets.FloatSlider(min=1, max=35, step=0.1, value=16.7, continuous_update=False, description='Plot2: N'),\n",
    "                'D2': widgets.FloatSlider(min=0.05, max=0.3, step=0.05, value=0.05, continuous_update=False, description='Plot2: D'),\n",
    "                'Di2': widgets.FloatSlider(min=0.005, max=0.05, step=0.005, value=0.01, continuous_update=False, description='Plot2: Di'),\n",
    "                'v_s2': widgets.FloatSlider(min=0.2, max=42, step=0.2, value=40, continuous_update=False, description='Plot2: v_s'),\n",
    "                # ... create all sliders for set 2\n",
    "               }\n",
    "\n",
    "sliders_set3 = {'T3': widgets.FloatSlider(min=20, max=50, step=1, value=50, continuous_update=False, description='Plot3: T'),\n",
    "                'Np3': widgets.FloatSlider(min=1.5, max=36, step=1.5, value=6, continuous_update=False, description='Plot3: Np'),\n",
    "                'h3': widgets.FloatSlider(min=0.05, max=0.3, step=0.05, value=0.3, continuous_update=False, description='Plot3: h'),\n",
    "                'N3': widgets.FloatSlider(min=1, max=35, step=0.1, value=16.7, continuous_update=False, description='Plot3: N'),\n",
    "                'D3': widgets.FloatSlider(min=0.05, max=0.3, step=0.05, value=0.05, continuous_update=False, description='Plot3: D'),\n",
    "                'Di3': widgets.FloatSlider(min=0.005, max=0.05, step=0.005, value=0.01, continuous_update=False, description='Plot3: Di'),\n",
    "                'v_s3': widgets.FloatSlider(min=0.2, max=42, step=0.2, value=21.23, continuous_update=False, description='Plot3: v_s'),\n",
    "                # ... create all sliders for set 3\n",
    "               }\n",
    "\n",
    "# Create VBox for each set\n",
    "vbox_set1 = widgets.VBox(children=[sliders_set1[key] for key in sorted(sliders_set1)])\n",
    "vbox_set2 = widgets.VBox(children=[sliders_set2[key] for key in sorted(sliders_set2)])\n",
    "vbox_set3 = widgets.VBox(children=[sliders_set3[key] for key in sorted(sliders_set3)])\n",
    "# Repeat for vbox_set2 and vbox_set3\n",
    "\n",
    "# Combine the VBox widgets into an HBox\n",
    "hbox_all_sliders = widgets.HBox(children=[vbox_set1, vbox_set2, vbox_set3])\n",
    "\n",
    "# Define the interactive_output widget with correct argument names\n",
    "interactive_plot = widgets.interactive_output(\n",
    "    plot_all,\n",
    "    {**sliders_set1, **sliders_set2, **sliders_set3}\n",
    ")\n",
    "\n",
    "# Display the layout\n",
    "display(HTML(\"<strong><u>Select Parameters for Three Plots:</u></strong>\"), hbox_all_sliders, interactive_plot)"
   ]
  },
  {
   "cell_type": "markdown",
   "id": "29a3f966-9e78-4dba-a470-474ca643ea1a",
   "metadata": {},
   "source": [
    "# 3sliders - 1 graph - (Dropdown options)"
   ]
  },
  {
   "cell_type": "code",
   "execution_count": 8,
   "id": "62a62dba-6e1b-40bc-858b-b347361a6e25",
   "metadata": {},
   "outputs": [
    {
     "data": {
      "text/html": [
       "<strong><u>Select Parameters for Three Plots:</u></strong>"
      ],
      "text/plain": [
       "<IPython.core.display.HTML object>"
      ]
     },
     "metadata": {},
     "output_type": "display_data"
    },
    {
     "data": {
      "application/vnd.jupyter.widget-view+json": {
       "model_id": "a315ea10c7af4cd98b778b9a7e49608e",
       "version_major": 2,
       "version_minor": 0
      },
      "text/plain": [
       "Dropdown(description='Select Plot:', index=6, options=('Plot 1', 'Plot 2', 'Plot 3', 'Plot 1 & 2', 'Plot 1 & 3…"
      ]
     },
     "metadata": {},
     "output_type": "display_data"
    },
    {
     "data": {
      "application/vnd.jupyter.widget-view+json": {
       "model_id": "e99d759cdd56460f8c9b6c713835918e",
       "version_major": 2,
       "version_minor": 0
      },
      "text/plain": [
       "HBox(children=(VBox(children=(FloatSlider(value=0.05, continuous_update=False, description='Plot1: D', max=0.3…"
      ]
     },
     "metadata": {},
     "output_type": "display_data"
    },
    {
     "data": {
      "application/vnd.jupyter.widget-view+json": {
       "model_id": "6f8004b411e948ff9944832d64d197d5",
       "version_major": 2,
       "version_minor": 0
      },
      "text/plain": [
       "Output()"
      ]
     },
     "metadata": {},
     "output_type": "display_data"
    }
   ],
   "source": [
    "import numpy as np\n",
    "import matplotlib.pyplot as plt\n",
    "from scipy.integrate import odeint\n",
    "import ipywidgets as widgets\n",
    "from IPython.display import display, clear_output, HTML\n",
    "\n",
    "# Define constants\n",
    "rho_f = 1000.0  # medium density (kg m^-3)\n",
    "pi = np.pi\n",
    "\n",
    "# Define the differential equation\n",
    "def kla_equation(C_l, t, T, Np, h, N, D, Di, v_s):\n",
    "    term1 = (1.022**(T-20))\n",
    "    term2 = 0.026 * (((0.5*Np*rho_f*N**3*Di**5)/(pi*D**2*h))**0.4)\n",
    "    term3 = (v_s**0.5)*(100-C_l)\n",
    "    return term1*term2*term3\n",
    "\n",
    "# Define the plotting function\n",
    "def plot_selected_plot(plot_selection, T1, Np1, h1, N1, D1, Di1, v_s1,\n",
    "                        T2, Np2, h2, N2, D2, Di2, v_s2,\n",
    "                        T3, Np3, h3, N3, D3, Di3, v_s3):\n",
    "    \n",
    "    time_span = np.linspace(0, 50, 1000)\n",
    "    initial_C_l = 0\n",
    "    \n",
    "    plt.figure(figsize=(10, 5))\n",
    "    # Determine which plots to show based on the dropdown selection\n",
    "    if plot_selection == 'Plot 1':\n",
    "        C_l1 = odeint(kla_equation, initial_C_l, time_span, args=(T1, Np1, h1, N1, D1, Di1, v_s1)).flatten()\n",
    "        plt.plot(time_span, C_l1, label='Plot 1', color='blue')\n",
    "        \n",
    "    elif plot_selection == 'Plot 2':\n",
    "        C_l2 = odeint(kla_equation, initial_C_l, time_span, args=(T2, Np2, h2, N2, D2, Di2, v_s2)).flatten()\n",
    "        plt.plot(time_span, C_l2, label='Plot 2', color='orange')\n",
    "    elif plot_selection == 'Plot 3':\n",
    "        C_l3 = odeint(kla_equation, initial_C_l, time_span, args=(T3, Np3, h3, N3, D3, Di3, v_s3)).flatten()\n",
    "        plt.plot(time_span, C_l3, label='Plot 3', color='green')\n",
    "    elif plot_selection == 'Plot 1 & 2':\n",
    "        C_l1 = odeint(kla_equation, initial_C_l, time_span, args=(T1, Np1, h1, N1, D1, Di1, v_s1)).flatten()\n",
    "        plt.plot(time_span, C_l1, label='Plot 1', color='blue')\n",
    "        C_l2 = odeint(kla_equation, initial_C_l, time_span, args=(T2, Np2, h2, N2, D2, Di2, v_s2)).flatten()\n",
    "        plt.plot(time_span, C_l2, label='Plot 2', color='orange')\n",
    "    elif plot_selection == 'Plot 1 & 3':\n",
    "        C_l1 = odeint(kla_equation, initial_C_l, time_span, args=(T1, Np1, h1, N1, D1, Di1, v_s1)).flatten()\n",
    "        plt.plot(time_span, C_l1, label='Plot 1', color='blue')\n",
    "        C_l3 = odeint(kla_equation, initial_C_l, time_span, args=(T3, Np3, h3, N3, D3, Di3, v_s3)).flatten()\n",
    "        plt.plot(time_span, C_l3, label='Plot 3', color='green')\n",
    "    elif plot_selection == 'Plot 2 & 3':\n",
    "        C_l2 = odeint(kla_equation, initial_C_l, time_span, args=(T2, Np2, h2, N2, D2, Di2, v_s2)).flatten()\n",
    "        plt.plot(time_span, C_l2, label='Plot 2', color='orange')\n",
    "        C_l3 = odeint(kla_equation, initial_C_l, time_span, args=(T3, Np3, h3, N3, D3, Di3, v_s3)).flatten()\n",
    "        plt.plot(time_span, C_l3, label='Plot 3', color='green')\n",
    "    elif plot_selection == 'All 3 Plots':\n",
    "        C_l1 = odeint(kla_equation, initial_C_l, time_span, args=(T1, Np1, h1, N1, D1, Di1, v_s1)).flatten()\n",
    "        plt.plot(time_span, C_l1, label='Plot 1', color='blue')\n",
    "        C_l2 = odeint(kla_equation, initial_C_l, time_span, args=(T2, Np2, h2, N2, D2, Di2, v_s2)).flatten()\n",
    "        plt.plot(time_span, C_l2, label='Plot 2', color='orange')\n",
    "        C_l3 = odeint(kla_equation, initial_C_l, time_span, args=(T3, Np3, h3, N3, D3, Di3, v_s3)).flatten()\n",
    "        plt.plot(time_span, C_l3, label='Plot 3', color='green')\n",
    "    \n",
    "    plt.xlabel('Time (seconds)')\n",
    "    plt.ylabel('Oxygen Concentration (%)')\n",
    "    plt.ylim(0, 102)\n",
    "    plt.title('Oxygen Concentration over Time')\n",
    "    plt.legend()\n",
    "    plt.grid(True)\n",
    "    plt.show()\n",
    "\n",
    "# Create dropdown widget for selecting which plot to show\n",
    "plot_selection_dropdown = widgets.Dropdown(\n",
    "    options=['Plot 1', 'Plot 2', 'Plot 3', 'Plot 1 & 2', 'Plot 1 & 3', 'Plot 2 & 3', 'All 3 Plots'],\n",
    "    value='All 3 Plots',\n",
    "    description='Select Plot:'\n",
    ")\n",
    "\n",
    "# Define the interactive_output widget with correct argument names\n",
    "interactive_plot = widgets.interactive_output(\n",
    "    plot_selected_plot,\n",
    "    {'plot_selection': plot_selection_dropdown, **sliders_set1, **sliders_set2, **sliders_set3}\n",
    ")\n",
    "\n",
    "# Display the layout including the dropdown\n",
    "display(HTML(\"<strong><u>Select Parameters for Three Plots:</u></strong>\"), plot_selection_dropdown, hbox_all_sliders, interactive_plot)"
   ]
  },
  {
   "cell_type": "code",
   "execution_count": null,
   "id": "16ba52be-77d7-4830-b102-c380cfe07838",
   "metadata": {},
   "outputs": [],
   "source": []
  }
 ],
 "metadata": {
  "kernelspec": {
   "display_name": "Python 3 (ipykernel)",
   "language": "python",
   "name": "python3"
  },
  "language_info": {
   "codemirror_mode": {
    "name": "ipython",
    "version": 3
   },
   "file_extension": ".py",
   "mimetype": "text/x-python",
   "name": "python",
   "nbconvert_exporter": "python",
   "pygments_lexer": "ipython3",
   "version": "3.11.6"
  }
 },
 "nbformat": 4,
 "nbformat_minor": 5
}
